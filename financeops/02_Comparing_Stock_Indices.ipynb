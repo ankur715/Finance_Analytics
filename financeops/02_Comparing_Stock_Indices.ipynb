{
 "cells": [
  {
   "cell_type": "markdown",
   "metadata": {},
   "source": [
    "# Comparing Stock Indices\n",
    "\n",
    "by [Magnus Erik Hvass Pedersen](http://www.hvass-labs.org/)\n",
    "/ [GitHub](https://github.com/Hvass-Labs/FinanceOps) / [Videos on YouTube](https://www.youtube.com/playlist?list=PL9Hr9sNUjfsmlHaWuVxIA0pKL1yjryR0Z)"
   ]
  },
  {
   "cell_type": "markdown",
   "metadata": {},
   "source": [
    "## Introduction\n",
    "\n",
    "When comparing the historical returns on stock indices, it is a common mistake to only consider a single time-period.\n",
    "\n",
    "We will compare three well-known stock indices for USA: The S&P 500 for large-cap stocks, the S&P 400 for mid-cap stocks, and the S&P 600 for small-cap stocks. We show that there are periods where each of these stock indices was better than the others.\n",
    "\n",
    "So a more proper way of comparing stock indices is to consider **all** investment periods. For example, instead of just comparing the returns between 1. January 1990 to 1. January 2018, we consider all 1-year investment periods between 1990 and 2018. We also consider all 2-year investment periods, 3-year periods, and so on all the way up to 10-year investment periods. We then calculate and compare various statistics to assess which stock index was best.\n",
    "\n",
    "This methodology was also used in the paper [Comparison of U.S. Stock Indices](https://papers.ssrn.com/sol3/papers.cfm?abstract_id=2667556)."
   ]
  },
  {
   "cell_type": "markdown",
   "metadata": {},
   "source": [
    "## Python Imports\n",
    "\n",
    "This Jupyter Notebook is implemented in Python v. 3.6 and requires various packages for numerical computations and plotting. See the installation instructions in the README-file."
   ]
  },
  {
   "cell_type": "code",
   "execution_count": 1,
   "metadata": {},
   "outputs": [],
   "source": [
    "%matplotlib inline"
   ]
  },
  {
   "cell_type": "code",
   "execution_count": 2,
   "metadata": {},
   "outputs": [],
   "source": [
    "# Imports from Python packages.\n",
    "import matplotlib.pyplot as plt\n",
    "from matplotlib.ticker import FuncFormatter\n",
    "import pandas as pd\n",
    "import numpy as np\n",
    "import os"
   ]
  },
  {
   "cell_type": "code",
   "execution_count": 3,
   "metadata": {},
   "outputs": [],
   "source": [
    "# Imports from FinanceOps.\n",
    "from data_keys import *\n",
    "from data import load_index_data, load_usa_cpi\n",
    "from data import load_usa_gov_bond_1year, common_period\n",
    "from returns import annualized_returns, bond_annualized_returns\n",
    "from recovery import prob_recovery"
   ]
  },
  {
   "cell_type": "markdown",
   "metadata": {},
   "source": [
    "## Load Data\n",
    "\n",
    "We now load all the financial data we will be using."
   ]
  },
  {
   "cell_type": "code",
   "execution_count": 4,
   "metadata": {},
   "outputs": [],
   "source": [
    "# Define the ticker-names for the stocks we consider.\n",
    "ticker_SP500 = \"S&P 500\"\n",
    "ticker_SP400 = \"S&P 400\"\n",
    "ticker_SP600 = \"S&P 600\"\n",
    "\n",
    "# All tickers for the stocks.\n",
    "tickers = [ticker_SP500, ticker_SP400, ticker_SP600]"
   ]
  },
  {
   "cell_type": "code",
   "execution_count": 5,
   "metadata": {},
   "outputs": [],
   "source": [
    "# Define longer names for the stocks.\n",
    "name_SP500 = \"S&P 500 (Large Cap)\"\n",
    "name_SP400 = \"S&P 400 (Mid Cap)\"\n",
    "name_SP600 = \"S&P 600 (Small Cap)\"\n",
    "\n",
    "# All names for the stocks.\n",
    "names = [name_SP500, name_SP400, name_SP600]"
   ]
  },
  {
   "cell_type": "code",
   "execution_count": 6,
   "metadata": {},
   "outputs": [],
   "source": [
    "# Load the financial data for the stock indices.\n",
    "df_SP500 = load_index_data(ticker=ticker_SP500)\n",
    "df_SP400 = load_index_data(ticker=ticker_SP400,\n",
    "                           sales=False, book_value=False)\n",
    "df_SP600 = load_index_data(ticker=ticker_SP600,\n",
    "                           sales=False, book_value=False)\n",
    "\n",
    "# All DataFrames for the stocks.\n",
    "dfs = [df_SP500, df_SP400, df_SP600]"
   ]
  },
  {
   "cell_type": "code",
   "execution_count": 7,
   "metadata": {},
   "outputs": [
    {
     "name": "stdout",
     "output_type": "stream",
     "text": [
      "1989-01-03 00:00:00 2018-07-06 00:00:00\n"
     ]
    }
   ],
   "source": [
    "# Common date-range for the stocks.\n",
    "start_date, end_date = common_period(dfs=dfs)\n",
    "print(start_date, end_date)"
   ]
  },
  {
   "cell_type": "code",
   "execution_count": 8,
   "metadata": {},
   "outputs": [],
   "source": [
    "# Load the US CPI inflation index.\n",
    "cpi = load_usa_cpi()"
   ]
  },
  {
   "cell_type": "code",
   "execution_count": 9,
   "metadata": {},
   "outputs": [],
   "source": [
    "# Load the yields for US Gov. Bonds with 1-year maturity.\n",
    "bond_yields = load_usa_gov_bond_1year()"
   ]
  },
  {
   "cell_type": "code",
   "execution_count": 10,
   "metadata": {},
   "outputs": [],
   "source": [
    "# Max number of investment years to consider.\n",
    "num_years = 10"
   ]
  },
  {
   "cell_type": "markdown",
   "metadata": {},
   "source": [
    "## Compare Total Returns\n",
    "\n",
    "The first plot shows the so-called Total Return of the stock indices, which is the investor's return when dividends are reinvested in the same stock index and taxes are ignored."
   ]
  },
  {
   "cell_type": "code",
   "execution_count": 11,
   "metadata": {},
   "outputs": [],
   "source": [
    "def plot_total_returns(dfs, names, start_date=None, end_date=None):\n",
    "    \"\"\"\n",
    "    Plot and compare the Total Returns for the given DataFrames.\n",
    "    \n",
    "    :param dfs: List of Pandas DataFrames with TOTAL_RETURN data.\n",
    "    :param names: Names of the stock indices.\n",
    "    :param start_date: Plot from this date.\n",
    "    :param end_date: Plot to this date.\n",
    "    :return: None.\n",
    "    \"\"\"\n",
    "    \n",
    "    # Create a new Pandas DataFrame which will be used\n",
    "    # to combine the time-series and plot them.\n",
    "    df2 = pd.DataFrame()\n",
    "\n",
    "    # For all the given DataFrames and their names.\n",
    "    for df, name in zip(dfs, names):\n",
    "        # Get the Total Return for the period.\n",
    "        tot_ret = df[TOTAL_RETURN][start_date:end_date]\n",
    "        # Normalize it to start at 1.0\n",
    "        tot_ret /= tot_ret[0]\n",
    "\n",
    "        # Add it to the DataFrame.\n",
    "        # It will be plotted with the given name.\n",
    "        df2[name] = tot_ret\n",
    "\n",
    "    # Plot it all.\n",
    "    df2.plot(title=\"Total Return\")"
   ]
  },
  {
   "cell_type": "code",
   "execution_count": 12,
   "metadata": {
    "scrolled": true
   },
   "outputs": [
    {
     "data": {
      "image/png": "[encoded data removed]",
      "text/plain": [
       "<Figure size 432x288 with 1 Axes>"
      ]
     },
     "metadata": {
      "needs_background": "light"
     },
     "output_type": "display_data"
    }
   ],
   "source": [
    "plot_total_returns(dfs=dfs, names=names,\n",
    "                   start_date=start_date, end_date=end_date)"
   ]
  },
  {
   "cell_type": "markdown",
   "metadata": {},
   "source": [
    "This plot clearly shows that the S&P 400 (Mid-Cap) had a much higher Total Return than the S&P 500 (Large-Cap) and S&P 600 (Small-Cap), and the S&P 500 performed slightly worse than the S&P 600.\n",
    "\n",
    "But this period was nearly 30 years. What if we consider shorter investment periods with different start and end-dates? We need more detailed statistics to answer these questions."
   ]
  },
  {
   "cell_type": "markdown",
   "metadata": {},
   "source": [
    "## Calculate Annualized Returns\n",
    "\n",
    "We calculate the annualized returns of the stock indices for **all** investment periods of durations from 1 to 10 years."
   ]
  },
  {
   "cell_type": "code",
   "execution_count": 13,
   "metadata": {},
   "outputs": [],
   "source": [
    "def calc_ann_returns(df, start_date, end_date, num_years):\n",
    "    \"\"\"\n",
    "    Calculate the annualized returns for the Total Return\n",
    "    of the given DataFrame.\n",
    "    \n",
    "    A list is returned so that ann_ret[0] is a Pandas Series\n",
    "    with the ann.returns for 1-year periods, and ann_ret[1]\n",
    "    are the ann.returns for 2-year periods, etc.\n",
    "    \n",
    "    :param df: Pandas DataFrame with TOTAL_RETURN data.\n",
    "    :param start_date: Start-date for the data.\n",
    "    :param end_date: End-date for the data.\n",
    "    :return: List of Pandas Series.\n",
    "    \"\"\"\n",
    "    \n",
    "    # Get the Total Return for the given period.\n",
    "    tot_ret = df[TOTAL_RETURN][start_date:end_date]\n",
    "    \n",
    "    # Calculate the annualized returns for all\n",
    "    # investment periods between 1 and num_years.\n",
    "    ann_ret = [annualized_returns(series=tot_ret, years=years)\n",
    "               for years in range(1, num_years+1)]\n",
    "    \n",
    "    return ann_ret"
   ]
  },
  {
   "cell_type": "code",
   "execution_count": 14,
   "metadata": {},
   "outputs": [],
   "source": [
    "# Annualized returns for the S&P 500.\n",
    "ann_ret_SP500 = calc_ann_returns(df=df_SP500,\n",
    "                                 start_date=start_date,\n",
    "                                 end_date=end_date,\n",
    "                                 num_years=num_years)"
   ]
  },
  {
   "cell_type": "code",
   "execution_count": 15,
   "metadata": {},
   "outputs": [],
   "source": [
    "# Annualized returns for the S&P 400.\n",
    "ann_ret_SP400 = calc_ann_returns(df=df_SP400,\n",
    "                                 start_date=start_date,\n",
    "                                 end_date=end_date,\n",
    "                                 num_years=num_years)"
   ]
  },
  {
   "cell_type": "code",
   "execution_count": 16,
   "metadata": {},
   "outputs": [],
   "source": [
    "# Annualized returns for the S&P 600.\n",
    "ann_ret_SP600 = calc_ann_returns(df=df_SP600,\n",
    "                                 start_date=start_date,\n",
    "                                 end_date=end_date,\n",
    "                                 num_years=num_years)"
   ]
  },
  {
   "cell_type": "code",
   "execution_count": 17,
   "metadata": {},
   "outputs": [],
   "source": [
    "# Annualized returns for investing and reinvesting in\n",
    "# US Gov. Bonds with 1-year maturity.\n",
    "ann_ret_bond = bond_annualized_returns(df=bond_yields,\n",
    "                                       num_years=num_years)"
   ]
  },
  {
   "cell_type": "code",
   "execution_count": 18,
   "metadata": {},
   "outputs": [],
   "source": [
    "# Annualized returns for the US CPI inflation index.\n",
    "cpi2 = cpi[start_date:end_date]\n",
    "ann_ret_cpi = [annualized_returns(series=cpi2, years=i+1)\n",
    "               for i in range(num_years)]"
   ]
  },
  {
   "cell_type": "markdown",
   "metadata": {},
   "source": [
    "### Examples of Annualized Returns\n",
    "\n",
    "The lists we have created above contain the annualized returns for the stock indices as well as US Government Bonds and the US CPI inflation index.\n",
    "\n",
    "Let us show the annualized returns of the S&P 500 for all 1-year periods. This is itself a time-series. It shows that the return was about 0.347 (or 34.7%) for the year between 3. January 1989 and 3. January 1990. The return was only about 31.6% between 4. January 1989 and 4. January 1990. And so on."
   ]
  },
  {
   "cell_type": "code",
   "execution_count": 19,
   "metadata": {
    "scrolled": true
   },
   "outputs": [
    {
     "data": {
      "text/plain": [
       "Date\n",
       "1989-01-03    0.347433\n",
       "1989-01-04    0.316132\n",
       "1989-01-05    0.300592\n",
       "1989-01-06    0.299486\n",
       "1989-01-07    0.300960\n",
       "1989-01-08    0.302432\n",
       "1989-01-09    0.286608\n",
       "1989-01-10    0.280842\n",
       "1989-01-11    0.277912\n",
       "1989-01-12    0.241273\n",
       "Name: Total Return, dtype: float64"
      ]
     },
     "execution_count": 19,
     "metadata": {},
     "output_type": "execute_result"
    }
   ],
   "source": [
    "ann_ret_SP500[0].head(10)"
   ]
  },
  {
   "cell_type": "markdown",
   "metadata": {},
   "source": [
    "We can also show the summary statistics for the annualized returns of **all** 1-year periods of the S&P 500. Note that a mean of about 0.113 means an average 1-year return of 11.3%."
   ]
  },
  {
   "cell_type": "code",
   "execution_count": 20,
   "metadata": {},
   "outputs": [
    {
     "data": {
      "text/plain": [
       "count    10412.000000\n",
       "mean         0.112986\n",
       "std          0.163164\n",
       "min         -0.475388\n",
       "25%          0.048051\n",
       "50%          0.134127\n",
       "75%          0.212517\n",
       "max          0.725738\n",
       "Name: Total Return, dtype: float64"
      ]
     },
     "execution_count": 20,
     "metadata": {},
     "output_type": "execute_result"
    }
   ],
   "source": [
    "ann_ret_SP500[0].describe()"
   ]
  },
  {
   "cell_type": "markdown",
   "metadata": {},
   "source": [
    "We can also show the annualized returns of the S&P 500 for all 10-year periods. This shows that between 3. January 1989 and 1999 the annualized return was about 19.3%. Between 4. January 1989 and 1999 it was about 19.1%."
   ]
  },
  {
   "cell_type": "code",
   "execution_count": 21,
   "metadata": {},
   "outputs": [
    {
     "data": {
      "text/plain": [
       "Date\n",
       "1989-01-03    0.192505\n",
       "1989-01-04    0.190708\n",
       "1989-01-05    0.192068\n",
       "1989-01-06    0.194400\n",
       "1989-01-07    0.194111\n",
       "1989-01-08    0.194570\n",
       "1989-01-09    0.194175\n",
       "1989-01-10    0.194079\n",
       "1989-01-11    0.193035\n",
       "1989-01-12    0.190226\n",
       "Name: Total Return, dtype: float64"
      ]
     },
     "execution_count": 21,
     "metadata": {},
     "output_type": "execute_result"
    }
   ],
   "source": [
    "ann_ret_SP500[9].head(10)"
   ]
  },
  {
   "cell_type": "markdown",
   "metadata": {},
   "source": [
    "These are the summary statistics for **all** 10-year periods of the S&P 500, which show that it returned about 8.2% per year on average, for **all** 10-year periods between 1989 and 2018."
   ]
  },
  {
   "cell_type": "code",
   "execution_count": 22,
   "metadata": {},
   "outputs": [
    {
     "data": {
      "text/plain": [
       "count    7125.000000\n",
       "mean        0.082307\n",
       "std         0.052215\n",
       "min        -0.046228\n",
       "25%         0.062988\n",
       "50%         0.079510\n",
       "75%         0.106382\n",
       "max         0.199302\n",
       "Name: Total Return, dtype: float64"
      ]
     },
     "execution_count": 22,
     "metadata": {},
     "output_type": "execute_result"
    }
   ],
   "source": [
    "ann_ret_SP500[9].describe()"
   ]
  },
  {
   "cell_type": "markdown",
   "metadata": {},
   "source": [
    "For US Government Bonds we only consider bonds with 1-year maturity, so for multi-year periods we assume the return is reinvested in new 1-year bonds. Reinvesting in gov. bonds gave an average return of about 5.7% for **all** 10-year periods between 1962 and 2018."
   ]
  },
  {
   "cell_type": "code",
   "execution_count": 23,
   "metadata": {},
   "outputs": [
    {
     "data": {
      "text/plain": [
       "count    17372.000000\n",
       "mean         0.056716\n",
       "std          0.027343\n",
       "min          0.004515\n",
       "25%          0.038709\n",
       "50%          0.058005\n",
       "75%          0.076294\n",
       "max          0.104418\n",
       "Name: Bond Yield, dtype: float64"
      ]
     },
     "execution_count": 23,
     "metadata": {},
     "output_type": "execute_result"
    }
   ],
   "source": [
    "ann_ret_bond[9].describe()"
   ]
  },
  {
   "cell_type": "markdown",
   "metadata": {},
   "source": [
    "## Examples of Good and Bad Periods\n",
    "\n",
    "Using the annualized returns we have just calculated, we can now easily find investment periods where one stock index was better than another."
   ]
  },
  {
   "cell_type": "code",
   "execution_count": 24,
   "metadata": {},
   "outputs": [],
   "source": [
    "def plot_better(df1, df2, ann_ret1, ann_ret2,\n",
    "                name1, name2, years):\n",
    "    \"\"\"\n",
    "    Plot the Total Return for a period of the given number\n",
    "    of years where the return on stock 1 > stock 2.\n",
    "\n",
    "    If this does not exist, then plot for the period where\n",
    "    the return of stock 1 was closest to that of stock 2.\n",
    "    \n",
    "    :param df1: Pandas DataFrame for stock 1.\n",
    "    :param df2: Pandas DataFrame for stock 2.\n",
    "    :param ann_ret1: List of ann.returns for stock 1.\n",
    "    :param ann_ret2: List of ann.returns for stock 2.\n",
    "    :param name1: Name of stock 1.\n",
    "    :param name2: Name of stock 2.\n",
    "    :param years: Investment period in years.\n",
    "    :return: None.\n",
    "    \"\"\"\n",
    "\n",
    "    # Convert number of years to index.\n",
    "    i = years - 1\n",
    "\n",
    "    # Difference of annualized returns.\n",
    "    ann_ret_dif = ann_ret1[i] - ann_ret2[i]\n",
    "\n",
    "    # Find the biggest return difference and use its\n",
    "    # index as the start-date for the period to be plotted.\n",
    "    start_date = ann_ret_dif.idxmax()\n",
    "    \n",
    "    # The end-date for the period to be plotted.\n",
    "    days = int(years * 365.25)\n",
    "    end_date = start_date + pd.Timedelta(days=days)\n",
    "    \n",
    "    # Create a Pandas DataFrame with stock 1,\n",
    "    # whose Total Return is normalized to start at 1.0\n",
    "    df = pd.DataFrame()\n",
    "    tot_ret1 = df1[start_date:end_date][TOTAL_RETURN]\n",
    "    df[name1] = tot_ret1 / tot_ret1[0]\n",
    "\n",
    "    # Add stock 2 to the DataFrame.\n",
    "    tot_ret2 = df2[start_date:end_date][TOTAL_RETURN]\n",
    "    df[name2] = tot_ret2 / tot_ret2[0]\n",
    "\n",
    "    # Plot the two stocks' Total Return for this period.\n",
    "    df.plot(title=\"Total Return\")"
   ]
  },
  {
   "cell_type": "markdown",
   "metadata": {},
   "source": [
    "First we show a 3-year period where the S&P 500 was better than the S&P 400."
   ]
  },
  {
   "cell_type": "code",
   "execution_count": 25,
   "metadata": {
    "scrolled": true
   },
   "outputs": [
    {
     "data": {
      "image/png": "[encoded data removed]",
      "text/plain": [
       "<Figure size 432x288 with 1 Axes>"
      ]
     },
     "metadata": {
      "needs_background": "light"
     },
     "output_type": "display_data"
    }
   ],
   "source": [
    "plot_better(df1=df_SP500, df2=df_SP400,\n",
    "            ann_ret1=ann_ret_SP500,\n",
    "            ann_ret2=ann_ret_SP400,\n",
    "            name1=name_SP500,\n",
    "            name2=name_SP400,\n",
    "            years=3)"
   ]
  },
  {
   "cell_type": "markdown",
   "metadata": {},
   "source": [
    "Then we show a 3-year period where the S&P 400 was better than the S&P 500."
   ]
  },
  {
   "cell_type": "code",
   "execution_count": 26,
   "metadata": {
    "scrolled": true
   },
   "outputs": [
    {
     "data": {
      "image/png": "[encoded data removed]",
      "text/plain": [
       "<Figure size 432x288 with 1 Axes>"
      ]
     },
     "metadata": {
      "needs_background": "light"
     },
     "output_type": "display_data"
    }
   ],
   "source": [
    "plot_better(df1=df_SP400, df2=df_SP500,\n",
    "            ann_ret1=ann_ret_SP400,\n",
    "            ann_ret2=ann_ret_SP500,\n",
    "            name1=name_SP400,\n",
    "            name2=name_SP500,\n",
    "            years=3)"
   ]
  },
  {
   "cell_type": "markdown",
   "metadata": {},
   "source": [
    "Then we show a 3-year period where the S&P 600 was better than the S&P 400."
   ]
  },
  {
   "cell_type": "code",
   "execution_count": 27,
   "metadata": {},
   "outputs": [
    {
     "data": {
      "image/png": "[encoded data removed]",
      "text/plain": [
       "<Figure size 432x288 with 1 Axes>"
      ]
     },
     "metadata": {
      "needs_background": "light"
     },
     "output_type": "display_data"
    }
   ],
   "source": [
    "plot_better(df1=df_SP600, df2=df_SP400,\n",
    "            ann_ret1=ann_ret_SP600,\n",
    "            ann_ret2=ann_ret_SP400,\n",
    "            name1=name_SP600,\n",
    "            name2=name_SP400,\n",
    "            years=3)"
   ]
  },
  {
   "cell_type": "markdown",
   "metadata": {},
   "source": [
    "Then we show a 3-year period where the S&P 400 was better than the S&P 600."
   ]
  },
  {
   "cell_type": "code",
   "execution_count": 28,
   "metadata": {},
   "outputs": [
    {
     "data": {
      "image/png": "[encoded data removed]",
      "text/plain": [
       "<Figure size 432x288 with 1 Axes>"
      ]
     },
     "metadata": {
      "needs_background": "light"
     },
     "output_type": "display_data"
    }
   ],
   "source": [
    "plot_better(df1=df_SP400, df2=df_SP600,\n",
    "            ann_ret1=ann_ret_SP400,\n",
    "            ann_ret2=ann_ret_SP600,\n",
    "            name1=name_SP400,\n",
    "            name2=name_SP600,\n",
    "            years=3)"
   ]
  },
  {
   "cell_type": "markdown",
   "metadata": {},
   "source": [
    "## Statistics for Annualized Returns\n",
    "\n",
    "We can also print summary statistics for the annualized returns."
   ]
  },
  {
   "cell_type": "code",
   "execution_count": 29,
   "metadata": {},
   "outputs": [],
   "source": [
    "def print_return_stats():\n",
    "    \"\"\"\n",
    "    Print basic statistics for the annualized returns.\n",
    "    \"\"\"\n",
    "\n",
    "    # For each period-duration.\n",
    "    for i in range(num_years):\n",
    "        years = i + 1\n",
    "        print(years, \"Year Investment Periods:\")\n",
    "\n",
    "        # Create a new DataFrame.\n",
    "        df = pd.DataFrame()\n",
    "        \n",
    "        # Add the basic statistics for each stock.\n",
    "        df[name_SP500] = ann_ret_SP500[i].describe()\n",
    "        df[name_SP400] = ann_ret_SP400[i].describe()\n",
    "        df[name_SP600] = ann_ret_SP600[i].describe()\n",
    "\n",
    "        # Print it.\n",
    "        print(df)\n",
    "        print()"
   ]
  },
  {
   "cell_type": "markdown",
   "metadata": {},
   "source": [
    "When we print the summary statistics for the stock indices, we see that for 1-year investment periods the S&P 500 returned about 11.3% on average, while the S&P 400 returned about 14.0%, and the S&P 600 returned about 12.4%.\n",
    "\n",
    "For longer investment periods the average returns decrease. For 10-year investment periods the S&P 500 returned about 8.2% per year on average, the S&P 400 returned about 11.6% on average, and the S&P 600 returned about 10.3% on average.\n",
    "\n",
    "It can be a bit confusing to view all the summary statistics like this and it is better to show selected data in a table, as was done in the paper [Comparison of U.S. Stock Indices](https://papers.ssrn.com/sol3/papers.cfm?abstract_id=2667556)."
   ]
  },
  {
   "cell_type": "code",
   "execution_count": 30,
   "metadata": {
    "scrolled": false
   },
   "outputs": [
    {
     "name": "stdout",
     "output_type": "stream",
     "text": [
      "1 Year Investment Periods:\n",
      "       S&P 500 (Large Cap)  S&P 400 (Mid Cap)  S&P 600 (Small Cap)\n",
      "count         10412.000000       10412.000000         10412.000000\n",
      "mean              0.112986           0.139816             0.124422\n",
      "std               0.163164           0.169569             0.182067\n",
      "min              -0.475388          -0.486201            -0.480795\n",
      "25%               0.048051           0.051591             0.017765\n",
      "50%               0.134127           0.152299             0.138376\n",
      "75%               0.212517           0.233438             0.238640\n",
      "max               0.725738           0.940194             0.980847\n",
      "\n",
      "2 Year Investment Periods:\n",
      "       S&P 500 (Large Cap)  S&P 400 (Mid Cap)  S&P 600 (Small Cap)\n",
      "count         10047.000000       10047.000000         10047.000000\n",
      "mean              0.106581           0.132753             0.118638\n",
      "std               0.127940           0.110371             0.115345\n",
      "min              -0.290626          -0.292739            -0.319836\n",
      "25%               0.064603           0.084897             0.057287\n",
      "50%               0.117945           0.144117             0.125716\n",
      "75%               0.186966           0.198057             0.197526\n",
      "max               0.427370           0.567336             0.567132\n",
      "\n",
      "3 Year Investment Periods:\n",
      "       S&P 500 (Large Cap)  S&P 400 (Mid Cap)  S&P 600 (Small Cap)\n",
      "count          9682.000000        9682.000000          9682.000000\n",
      "mean              0.102499           0.128249             0.116065\n",
      "std               0.109208           0.083235             0.085480\n",
      "min              -0.174875          -0.179764            -0.205387\n",
      "25%               0.035026           0.089267             0.075811\n",
      "50%               0.114638           0.139113             0.123830\n",
      "75%               0.166633           0.182907             0.165271\n",
      "max               0.333561           0.360864             0.366621\n",
      "\n",
      "4 Year Investment Periods:\n",
      "       S&P 500 (Large Cap)  S&P 400 (Mid Cap)  S&P 600 (Small Cap)\n",
      "count          9316.000000        9316.000000          9316.000000\n",
      "mean              0.100798           0.126808             0.115251\n",
      "std               0.096932           0.067837             0.066867\n",
      "min              -0.119021          -0.109266            -0.130330\n",
      "25%               0.010796           0.083519             0.078164\n",
      "50%               0.122646           0.136477             0.124898\n",
      "75%               0.157617           0.177959             0.161976\n",
      "max               0.315208           0.312517             0.319759\n",
      "\n",
      "5 Year Investment Periods:\n",
      "       S&P 500 (Large Cap)  S&P 400 (Mid Cap)  S&P 600 (Small Cap)\n",
      "count          8951.000000        8951.000000          8951.000000\n",
      "mean              0.098910           0.125713             0.114381\n",
      "std               0.086653           0.060182             0.060642\n",
      "min              -0.082479          -0.066485            -0.076961\n",
      "25%               0.011236           0.081825             0.080427\n",
      "50%               0.109953           0.134945             0.120274\n",
      "75%               0.158924           0.168750             0.158512\n",
      "max               0.285207           0.297958             0.317837\n",
      "\n",
      "6 Year Investment Periods:\n",
      "       S&P 500 (Large Cap)  S&P 400 (Mid Cap)  S&P 600 (Small Cap)\n",
      "count          8586.000000        8586.000000          8586.000000\n",
      "mean              0.096727           0.124291             0.112477\n",
      "std               0.074872           0.049256             0.047576\n",
      "min              -0.017193           0.001454             0.004222\n",
      "25%               0.028761           0.088841             0.069622\n",
      "50%               0.082208           0.118801             0.118331\n",
      "75%               0.157388           0.163534             0.142846\n",
      "max               0.251919           0.261439             0.267713\n",
      "\n",
      "7 Year Investment Periods:\n",
      "       S&P 500 (Large Cap)  S&P 400 (Mid Cap)  S&P 600 (Small Cap)\n",
      "count          8221.000000        8221.000000          8221.000000\n",
      "mean              0.093989           0.122882             0.110610\n",
      "std               0.066929           0.045170             0.040869\n",
      "min              -0.057312          -0.027798            -0.031855\n",
      "25%               0.037935           0.088598             0.080493\n",
      "50%               0.070826           0.118456             0.112046\n",
      "75%               0.150195           0.162904             0.139893\n",
      "max               0.218949           0.241754             0.242934\n",
      "\n",
      "8 Year Investment Periods:\n",
      "       S&P 500 (Large Cap)  S&P 400 (Mid Cap)  S&P 600 (Small Cap)\n",
      "count          7855.000000        7855.000000          7855.000000\n",
      "mean              0.091149           0.121829             0.108708\n",
      "std               0.062544           0.043995             0.035950\n",
      "min              -0.057814          -0.016115            -0.013276\n",
      "25%               0.046099           0.086711             0.082492\n",
      "50%               0.074485           0.124011             0.106222\n",
      "75%               0.146414           0.160711             0.135071\n",
      "max               0.221715           0.215918             0.223878\n",
      "\n",
      "9 Year Investment Periods:\n",
      "       S&P 500 (Large Cap)  S&P 400 (Mid Cap)  S&P 600 (Small Cap)\n",
      "count          7490.000000        7490.000000          7490.000000\n",
      "mean              0.087202           0.119475             0.105844\n",
      "std               0.058660           0.042426             0.032688\n",
      "min              -0.061491          -0.007457            -0.013526\n",
      "25%               0.055023           0.090126             0.084489\n",
      "50%               0.077352           0.114463             0.102917\n",
      "75%               0.123626           0.153306             0.127317\n",
      "max               0.215052           0.209029             0.219871\n",
      "\n",
      "10 Year Investment Periods:\n",
      "       S&P 500 (Large Cap)  S&P 400 (Mid Cap)  S&P 600 (Small Cap)\n",
      "count          7125.000000        7125.000000          7125.000000\n",
      "mean              0.082307           0.116262             0.102765\n",
      "std               0.052215           0.038534             0.027056\n",
      "min              -0.046228           0.022417             0.019949\n",
      "25%               0.062988           0.087941             0.083334\n",
      "50%               0.079510           0.109439             0.104170\n",
      "75%               0.106382           0.144599             0.121255\n",
      "max               0.199302           0.217551             0.183106\n",
      "\n"
     ]
    }
   ],
   "source": [
    "print_return_stats()"
   ]
  },
  {
   "cell_type": "markdown",
   "metadata": {},
   "source": [
    "## Probability of Loss\n",
    "\n",
    "Another useful statistic is the historical probability of loss for different investment periods."
   ]
  },
  {
   "cell_type": "code",
   "execution_count": 31,
   "metadata": {},
   "outputs": [],
   "source": [
    "def prob_loss(ann_ret):\n",
    "    \"\"\"\n",
    "    Calculate the probability of negative ann.returns (losses).\n",
    "    \"\"\"\n",
    "\n",
    "    # Remove rows with NA.\n",
    "    ann_ret = ann_ret.dropna()\n",
    "    \n",
    "    # Calculate the probability using a boolean mask.\n",
    "    mask = (ann_ret < 0.0)\n",
    "    prob = np.sum(mask) / len(mask)\n",
    "\n",
    "    return prob"
   ]
  },
  {
   "cell_type": "code",
   "execution_count": 32,
   "metadata": {},
   "outputs": [],
   "source": [
    "def print_prob_loss():\n",
    "    \"\"\"\n",
    "    Print the probability of loss for increasing investment\n",
    "    periods for all the stocks.\n",
    "    \"\"\"\n",
    "\n",
    "    # Create a new DataFrame.\n",
    "    df = pd.DataFrame()\n",
    "\n",
    "    # Add a column with the probability of loss for S&P 500.\n",
    "    df[name_SP500] = [prob_loss(ann_ret_SP500[i])\n",
    "                      for i in range(num_years)]\n",
    "\n",
    "    # Add a column with the probability of loss for S&P 400.\n",
    "    df[name_SP400] = [prob_loss(ann_ret_SP400[i])\n",
    "                      for i in range(num_years)]\n",
    "\n",
    "    # Add a column with the probability of loss for S&P 600.\n",
    "    df[name_SP600] = [prob_loss(ann_ret_SP600[i])\n",
    "                      for i in range(num_years)]\n",
    "\n",
    "    # Set the index.\n",
    "    df.index = [\"{} Years\".format(i+1) for i in range(num_years)]\n",
    "    \n",
    "    print(df)"
   ]
  },
  {
   "cell_type": "markdown",
   "metadata": {},
   "source": [
    "This shows the probability of loss for the stock-indices for investment periods between 1 and 10 years.\n",
    "\n",
    "For example, the S&P 500 had a loss in about 17.8% of all 1-year investment periods, while the S&P 400 had a loss in about 18.1% of all 1-year periods, and the S&P 600 had a loss in about 22.3% of all 1-year periods.\n",
    "\n",
    "The probability of loss generally decreases as the investment period increases.\n",
    "\n",
    "For example, the S&P 500 had a loss in about 9.6% of all 10-year investment periods, while the S&P 400 and S&P 600 did not have a loss in any of the 10-year periods."
   ]
  },
  {
   "cell_type": "code",
   "execution_count": 33,
   "metadata": {
    "scrolled": false
   },
   "outputs": [
    {
     "name": "stdout",
     "output_type": "stream",
     "text": [
      "          S&P 500 (Large Cap)  S&P 400 (Mid Cap)  S&P 600 (Small Cap)\n",
      "1 Years              0.178352           0.181137             0.223300\n",
      "2 Years              0.174978           0.105803             0.147109\n",
      "3 Years              0.189837           0.096364             0.090787\n",
      "4 Years              0.230893           0.044976             0.075247\n",
      "5 Years              0.174841           0.019327             0.031505\n",
      "6 Years              0.049033           0.000000             0.000000\n",
      "7 Years              0.027491           0.004136             0.004622\n",
      "8 Years              0.051305           0.002164             0.001400\n",
      "9 Years              0.065554           0.000935             0.001469\n",
      "10 Years             0.096281           0.000000             0.000000\n"
     ]
    }
   ],
   "source": [
    "print_prob_loss()"
   ]
  },
  {
   "cell_type": "markdown",
   "metadata": {},
   "source": [
    "## Compared to Inflation\n",
    "\n",
    "It is also useful to consider the probability of a stock index performing better than inflation."
   ]
  },
  {
   "cell_type": "code",
   "execution_count": 34,
   "metadata": {},
   "outputs": [],
   "source": [
    "def prob_better(ann_ret1, ann_ret2):\n",
    "    \"\"\"\n",
    "    Calculate the probability that the ann.returns of stock 1\n",
    "    were better than the ann.returns of stock 2.\n",
    "\n",
    "    This does not assume the index-dates are identical.\n",
    "\n",
    "    :param ann_ret1: Pandas Series with ann.returns for stock 1.\n",
    "    :param ann_ret2: Pandas Series with ann.returns for stock 2.\n",
    "    :return: Probability.\n",
    "    \"\"\"\n",
    "\n",
    "    # Create a new DataFrame.\n",
    "    df = pd.DataFrame()\n",
    "\n",
    "    # Add the ann.returns for the two stocks.\n",
    "    df[\"ann_ret1\"] = ann_ret1\n",
    "    df[\"ann_ret2\"] = ann_ret2\n",
    "\n",
    "    # Remove all rows with NA.\n",
    "    df.dropna(inplace=True)\n",
    "\n",
    "    # Calculate the probability using a boolean mask.\n",
    "    mask = (df[\"ann_ret1\"] > df[\"ann_ret2\"])\n",
    "    prob = np.sum(mask) / len(mask)\n",
    "\n",
    "    return prob"
   ]
  },
  {
   "cell_type": "code",
   "execution_count": 35,
   "metadata": {},
   "outputs": [],
   "source": [
    "def print_prob_better_than_inflation():\n",
    "    \"\"\"\n",
    "    Print the probability of the stocks performing better\n",
    "    than inflation for increasing investment periods.\n",
    "    \"\"\"\n",
    "    \n",
    "    # Create a new DataFrame.\n",
    "    df = pd.DataFrame()\n",
    "\n",
    "    # Add a column with the probabilities for the S&P 500.\n",
    "    name = ticker_SP500 + \" > CPI\"\n",
    "    df[name] = [prob_better(ann_ret_SP500[i], ann_ret_cpi[i])\n",
    "                for i in range(num_years)]\n",
    "\n",
    "    # Add a column with the probabilities for the S&P 400.\n",
    "    name = ticker_SP400 + \" > CPI\"\n",
    "    df[name] = [prob_better(ann_ret_SP400[i], ann_ret_cpi[i])\n",
    "                for i in range(num_years)]\n",
    "\n",
    "    # Add a column with the probabilities for the S&P 600.\n",
    "    name = ticker_SP600 + \" > CPI\"\n",
    "    df[name] = [prob_better(ann_ret_SP600[i], ann_ret_cpi[i])\n",
    "                for i in range(num_years)]\n",
    "\n",
    "    # Set the index.\n",
    "    df.index = [\"{} Years\".format(i+1) for i in range(num_years)]\n",
    "    \n",
    "    print(df)"
   ]
  },
  {
   "cell_type": "markdown",
   "metadata": {},
   "source": [
    "This shows the probability of each stock index having a higher return than inflation for investment periods between 1 and 10 years. All taxes are ignored.\n",
    "\n",
    "For example, both the S&P 500 and S&P 400 had a higher return than inflation in about 79% of all 1-year investment periods, while the S&P 600 only exceeded inflation in about 73.6% of all 1-year periods.\n",
    "\n",
    "For investment periods of 6 years or more, the S&P 400 and S&P 600 performed better than inflation for almost all investment periods. But the S&P 500 only exceeded inflation in about 86% of all 10-year periods."
   ]
  },
  {
   "cell_type": "code",
   "execution_count": 36,
   "metadata": {},
   "outputs": [
    {
     "name": "stdout",
     "output_type": "stream",
     "text": [
      "          S&P 500 > CPI  S&P 400 > CPI  S&P 600 > CPI\n",
      "1 Years        0.789484       0.786101       0.736033\n",
      "2 Years        0.803727       0.876966       0.812945\n",
      "3 Years        0.771319       0.882488       0.866889\n",
      "4 Years        0.731892       0.921514       0.884432\n",
      "5 Years        0.695104       0.960270       0.896455\n",
      "6 Years        0.794249       0.998005       0.995305\n",
      "7 Years        0.850153       0.975720       0.979277\n",
      "8 Years        0.873154       0.975350       0.989087\n",
      "9 Years        0.868534       0.989494       0.992726\n",
      "10 Years       0.858904       0.999292       0.999292\n"
     ]
    }
   ],
   "source": [
    "print_prob_better_than_inflation()"
   ]
  },
  {
   "cell_type": "markdown",
   "metadata": {},
   "source": [
    "## Compared to Bonds\n",
    "\n",
    "It is also useful to compare the returns of the stock indices to risk-free government bonds."
   ]
  },
  {
   "cell_type": "code",
   "execution_count": 37,
   "metadata": {},
   "outputs": [],
   "source": [
    "def print_prob_better_than_bonds():\n",
    "    \"\"\"\n",
    "    Print the probability of the stocks performing better\n",
    "    than US Gov. Bonds for increasing investment periods.\n",
    "    \"\"\"\n",
    "    \n",
    "    # Create a new DataFrame.\n",
    "    df = pd.DataFrame()\n",
    "\n",
    "    # Add a column with the probabilities for the S&P 500.\n",
    "    name = ticker_SP500 + \" > Bonds\"\n",
    "    df[name] = [prob_better(ann_ret_SP500[i], ann_ret_bond[i])\n",
    "                for i in range(num_years)]\n",
    "\n",
    "    # Add a column with the probabilities for the S&P 400.\n",
    "    name = ticker_SP400 + \" > Bonds\"\n",
    "    df[name] = [prob_better(ann_ret_SP400[i], ann_ret_bond[i])\n",
    "                for i in range(num_years)]\n",
    "\n",
    "    # Add a column with the probabilities for the S&P 600.\n",
    "    name = ticker_SP600 + \" > Bonds\"\n",
    "    df[name] = [prob_better(ann_ret_SP600[i], ann_ret_bond[i])\n",
    "                for i in range(num_years)]\n",
    "\n",
    "    # Set the index.\n",
    "    df.index = [\"{} Years\".format(i+1) for i in range(num_years)]\n",
    "    \n",
    "    print(df)"
   ]
  },
  {
   "cell_type": "markdown",
   "metadata": {},
   "source": [
    "This shows the probability of each stock index having a higher return than risk-free government bonds, for investment periods between 1 and 10 years. We consider annual reinvestment in bonds with 1-year maturity. All taxes are ignored.\n",
    "\n",
    "For example, the S&P 500 returned more than government bonds in about 79% of all 1-year periods, while it was 78% for the S&P 400 and 73% for the S&P 600.\n",
    "\n",
    "For investment periods of 6 years or more, the S&P 400 and S&P 600 nearly always returned more than government bonds. But the S&P 500 only returned more than bonds in about 84% of all 10-year periods."
   ]
  },
  {
   "cell_type": "code",
   "execution_count": 38,
   "metadata": {},
   "outputs": [
    {
     "name": "stdout",
     "output_type": "stream",
     "text": [
      "          S&P 500 > Bonds  S&P 400 > Bonds  S&P 600 > Bonds\n",
      "1 Years          0.792451         0.782655         0.731464\n",
      "2 Years          0.794864         0.867324         0.787797\n",
      "3 Years          0.764925         0.869758         0.830097\n",
      "4 Years          0.727458         0.896415         0.869794\n",
      "5 Years          0.694448         0.942129         0.869512\n",
      "6 Years          0.730608         0.996389         0.987072\n",
      "7 Years          0.816567         0.974577         0.976645\n",
      "8 Years          0.838956         0.965500         0.980267\n",
      "9 Years          0.866489         0.970494         0.985314\n",
      "10 Years         0.843789         0.997193         0.997193\n"
     ]
    }
   ],
   "source": [
    "print_prob_better_than_bonds()"
   ]
  },
  {
   "cell_type": "markdown",
   "metadata": {},
   "source": [
    "## Compared to Other Stock Indices\n",
    "\n",
    "Now we will compare the stock indices directly against each other."
   ]
  },
  {
   "cell_type": "code",
   "execution_count": 39,
   "metadata": {},
   "outputs": [],
   "source": [
    "def print_prob_better():\n",
    "    \"\"\"\n",
    "    Print the probability of one stock index performing better\n",
    "    than another stock index for increasing investment periods.\n",
    "    \"\"\"\n",
    "    \n",
    "    # Create a new DataFrame.\n",
    "    df = pd.DataFrame()\n",
    "\n",
    "    # Add a column with the probabilities for S&P 500 > S&P 400.\n",
    "    name = ticker_SP500 + \" > \" + ticker_SP400\n",
    "    df[name] = [prob_better(ann_ret_SP500[i], ann_ret_SP400[i])\n",
    "                for i in range(num_years)]\n",
    "\n",
    "    # Add a column with the probabilities for S&P 500 > S&P 600.\n",
    "    name = ticker_SP500 + \" > \" + ticker_SP600\n",
    "    df[name] = [prob_better(ann_ret_SP500[i], ann_ret_SP600[i])\n",
    "                for i in range(num_years)]\n",
    "\n",
    "    # Add a column with the probabilities for S&P 600 > S&P 400.\n",
    "    name = ticker_SP600 + \" > \" + ticker_SP400\n",
    "    df[name] = [prob_better(ann_ret_SP600[i], ann_ret_SP400[i])\n",
    "                for i in range(num_years)]\n",
    "\n",
    "    # Set the index.\n",
    "    df.index = [\"{} Years\".format(i+1) for i in range(num_years)]\n",
    "    \n",
    "    print(df)  "
   ]
  },
  {
   "cell_type": "markdown",
   "metadata": {},
   "source": [
    "This shows the probability of one stock index performing better than another for investment periods between 1 and 10 years. All taxes are ignored.\n",
    "\n",
    "For example, the S&P 500 (Large-Cap) performed better than the S&P 400 (Mid-Cap) in about 42% of all 1-year periods. Similarly, the S&P 500 performed better than the S&P 600 (Small-Cap) in almost 45% of all 1-year periods.\n",
    "\n",
    "For longer investment periods the S&P 500 generally performed worse than the S&P 400 and S&P 600. For example, the S&P 500 only performed better than the S&P 400 in about 6% of all 10-year periods, and it was better than the S&P 600 in about 15% of the 10-year periods. Similarly, the S&P 600 was better than the S&P 400 in only about 21% of all 10-year periods.\n",
    "\n",
    "This shows that for longer investment periods the S&P 400 (Mid-Cap) mostly had a higher return than both the S&P 500 (Large-Cap) and S&P 600 (Small-Cap)."
   ]
  },
  {
   "cell_type": "code",
   "execution_count": 40,
   "metadata": {},
   "outputs": [
    {
     "name": "stdout",
     "output_type": "stream",
     "text": [
      "          S&P 500 > S&P 400  S&P 500 > S&P 600  S&P 600 > S&P 400\n",
      "1 Years            0.424894           0.446024           0.495102\n",
      "2 Years            0.362297           0.413656           0.518961\n",
      "3 Years            0.336501           0.385561           0.516629\n",
      "4 Years            0.305389           0.336840           0.485831\n",
      "5 Years            0.259524           0.299631           0.458943\n",
      "6 Years            0.252737           0.269509           0.411134\n",
      "7 Years            0.182460           0.265175           0.302153\n",
      "8 Years            0.128708           0.252451           0.239975\n",
      "9 Years            0.107210           0.241522           0.181976\n",
      "10 Years           0.061895           0.153123           0.210246\n"
     ]
    }
   ],
   "source": [
    "print_prob_better()"
   ]
  },
  {
   "cell_type": "markdown",
   "metadata": {},
   "source": [
    "## Correlation\n",
    "\n",
    "It is also useful to consider the statistical correlation between the returns of stock indices."
   ]
  },
  {
   "cell_type": "code",
   "execution_count": 41,
   "metadata": {},
   "outputs": [],
   "source": [
    "def print_correlation():\n",
    "    \"\"\"\n",
    "    Print the correlation between the stock indices\n",
    "    for increasing investment periods.\n",
    "    \"\"\"\n",
    "    \n",
    "    # Create a new DataFrame.\n",
    "    df = pd.DataFrame()\n",
    "\n",
    "    # Add a column with the correlations for S&P 500 vs. S&P 400.\n",
    "    name = ticker_SP500 + \" vs. \" + ticker_SP400\n",
    "    df[name] = [ann_ret_SP500[i].corr(ann_ret_SP400[i])\n",
    "                for i in range(num_years)]\n",
    "\n",
    "    # Add a column with the correlations for S&P 500 vs. S&P 600.\n",
    "    name = ticker_SP500 + \" vs. \" + ticker_SP600\n",
    "    df[name] = [ann_ret_SP500[i].corr(ann_ret_SP600[i])\n",
    "                for i in range(num_years)]\n",
    "\n",
    "    # Add a column with the correlations for S&P 600 vs. S&P 400.\n",
    "    name = ticker_SP600 + \" vs. \" + ticker_SP400\n",
    "    df[name] = [ann_ret_SP600[i].corr(ann_ret_SP400[i])\n",
    "                for i in range(num_years)]\n",
    "\n",
    "    # Set the index.\n",
    "    df.index = [\"{} Years\".format(i+1) for i in range(num_years)]\n",
    "    \n",
    "    print(df)"
   ]
  },
  {
   "cell_type": "markdown",
   "metadata": {},
   "source": [
    "This shows the correlation coefficient (Pearson) between the returns on the stock indices for investment periods between 1 and 10 years.\n",
    "\n",
    "For example, the correlation was about 0.88 between the S&P 500 and S&P 400 for all 1-year investment periods, while it was only 0.77 for the S&P 500 and S&P 600, and 0.92 for the S&P 600 and S&P 400.\n",
    "\n",
    "For longer investment periods the correlation coefficient generally increases. For example, the correlation was about 0.93 between the S&P 500 and S&P 400 for all 10-year investment periods, while it was about 0.85 between the S&P 500 and S&P 600, and it was almost 0.94 between the S&P 600 and S&P 400.\n",
    "\n",
    "This shows that the return on these three stock indices are all highly correlated, so that they have a strong tendency to show losses or gains for the same periods.\n",
    "\n",
    "It might also be useful to consider the correlation for shorter investment periods, e.g. monthly, weekly or even daily, because a low correlation between stock indices might be useful for rebalancing the investment portfolio when one stock index is down and another is up."
   ]
  },
  {
   "cell_type": "code",
   "execution_count": 42,
   "metadata": {},
   "outputs": [
    {
     "name": "stdout",
     "output_type": "stream",
     "text": [
      "          S&P 500 vs. S&P 400  S&P 500 vs. S&P 600  S&P 600 vs. S&P 400\n",
      "1 Years              0.881041             0.773324             0.921980\n",
      "2 Years              0.872209             0.730016             0.882637\n",
      "3 Years              0.875349             0.728040             0.873453\n",
      "4 Years              0.887510             0.758450             0.877225\n",
      "5 Years              0.887614             0.756654             0.889081\n",
      "6 Years              0.890631             0.749908             0.874440\n",
      "7 Years              0.890307             0.771255             0.899970\n",
      "8 Years              0.912973             0.837214             0.936627\n",
      "9 Years              0.930655             0.857917             0.945555\n",
      "10 Years             0.929490             0.846769             0.935134\n"
     ]
    }
   ],
   "source": [
    "print_correlation()"
   ]
  },
  {
   "cell_type": "markdown",
   "metadata": {},
   "source": [
    "## Recovery Times\n",
    "\n",
    "It is also useful to consider how quickly the stock indices typically recover from losses."
   ]
  },
  {
   "cell_type": "code",
   "execution_count": 43,
   "metadata": {},
   "outputs": [],
   "source": [
    "def print_recovery_days():\n",
    "    \"\"\"\n",
    "    Print the probability of the stocks recovering from losses\n",
    "    for increasing number of days.\n",
    "    \"\"\"\n",
    "\n",
    "    # Print the probability for these days.\n",
    "    num_days = [7, 30, 90, 180, 365, 2*365, 5*365]\n",
    "    \n",
    "    # Create a new DataFrame.\n",
    "    df = pd.DataFrame()\n",
    "    \n",
    "    # Add a column with the probabilities for the S&P 500.\n",
    "    df[ticker_SP500] = prob_recovery(df=df_SP500, num_days=num_days,\n",
    "                                     start_date=start_date,\n",
    "                                     end_date=end_date)\n",
    "\n",
    "    # Add a column with the probabilities for the S&P 400.\n",
    "    df[ticker_SP400] = prob_recovery(df=df_SP400, num_days=num_days,\n",
    "                                     start_date=start_date,\n",
    "                                     end_date=end_date)\n",
    "\n",
    "    # Add a column with the probabilities for the S&P 600.\n",
    "    df[ticker_SP600] = prob_recovery(df=df_SP600, num_days=num_days,\n",
    "                                     start_date=start_date,\n",
    "                                     end_date=end_date)\n",
    "\n",
    "    # Set the index.\n",
    "    df.index = [\"{} Days\".format(days) for days in num_days]\n",
    "    \n",
    "    print(df)"
   ]
  },
  {
   "cell_type": "markdown",
   "metadata": {},
   "source": [
    "This shows the probability that each stock index has recovered from losses within a given number of days.\n",
    "\n",
    "For example, all three stock indices recovered from about 80-83% of all losses within just a week. The probability goes up for longer investment periods. For example, for 5-year investment periods the S&P 500 had recovered from about 99.8% of all losses, while the S&P 400 and S&P 600 had recovered from all losses in 5 years.\n",
    "\n",
    "Note that this only measures the number of days until the stock index recovered the first time. It is possible that a stock index decreases again in the future. This can be seen from the non-zero probabilities of loss shown further above, where the S&P 400 and S&P 600 had losses in some 7, 8, and 9 year investment periods."
   ]
  },
  {
   "cell_type": "code",
   "execution_count": 44,
   "metadata": {
    "scrolled": false
   },
   "outputs": [
    {
     "name": "stdout",
     "output_type": "stream",
     "text": [
      "            S&P 500   S&P 400   S&P 600\n",
      "7 Days     0.826761  0.814791  0.804398\n",
      "30 Days    0.938016  0.931985  0.921128\n",
      "90 Days    0.975503  0.968915  0.962698\n",
      "180 Days   0.984411  0.984597  0.982370\n",
      "365 Days   0.988865  0.994340  0.991278\n",
      "730 Days   0.992113  0.999165  0.998423\n",
      "1825 Days  0.997773  1.000000  1.000000\n"
     ]
    }
   ],
   "source": [
    "print_recovery_days()"
   ]
  },
  {
   "cell_type": "markdown",
   "metadata": {},
   "source": [
    "## Discussion\n",
    "\n",
    "From the above statistics we saw that the S&P 400 (Mid-Cap) was generally better than the S&P 600 (Small-Cap), which was generally better than the S&P 500 (Large-Cap), especially for longer investment periods.\n",
    "\n",
    "For all 10-year investment periods between 1989 and 2018, the S&P 400 returned 11.6% per year on average, while the S&P 600 returned 10.3% on average, and the S&P 500 only returned 8.2% on average.\n",
    "\n",
    "Furthermore, the S&P 400 and 600 almost never had losses for investment periods of 6 years or more, while the S&P 500 had losses in about 9.6% of all 10-year investment periods.\n",
    "\n",
    "Obviously the S&P 400 (Mid-Cap) would have been a better investment for most longer periods between 1989 and 2018. The question is whether this superiority will continue in the future?\n",
    "\n",
    "### Forecasting Future Returns\n",
    "\n",
    "It is easy to imagine, that if many investors were to believe that the S&P 400 was generally a superior investment to the S&P 500, then the price of the S&P 400 would be bid up to the point where its future earnings growth could no longer justify its price and the S&P 400 would therefore end up under-performing the S&P 500 in the long-term.\n",
    "\n",
    "We therefore need to forecast the future returns of the S&P 400 and S&P 600 similarly to how we did that for the S&P 500 in the [previous paper](https://github.com/Hvass-Labs/FinanceOps/blob/master/01_Forecasting_Long-Term_Stock_Returns.ipynb). The problem is that we do not have the P/Sales or P/Book data for the S&P 400 and S&P 600. This data can be purchased from Standard & Poor's but it is quite expensive.\n",
    "\n",
    "What we have instead are the dividend payouts for the S&P 400 and 600, which can be used to calculate the P/Dividend ratio or its reciprocal value called the Dividend Yield. You are encouraged to try and run the previous Python Notebook with this data to see if you can forecast the future returns of the S&P 400 and 600 from their dividend yields.\n",
    "\n",
    "Once you have forecasted the future returns of the three indices you can guage whether the indices are mispriced, so that one index might currently be preferred over the others.\n",
    "\n",
    "### Cause of Growth\n",
    "\n",
    "We have not considered the underlying cause of growth for these three indices. It would be of great importance to know whether the superior returns on the S&P 400 were caused by superior growth in sales and earnings, and whether we might expect such growth to continue in the future. More detailed financial data is needed for this analysis, which unfortunately can be difficult and expensive to obtain for many stock indices."
   ]
  },
  {
   "cell_type": "markdown",
   "metadata": {},
   "source": [
    "## License (MIT)\n",
    "\n",
    "Copyright (c) 2015-18 by [Magnus Erik Hvass Pedersen](http://www.hvass-labs.org/)\n",
    "\n",
    "Permission is hereby granted, free of charge, to any person obtaining a copy of this software and associated documentation files (the \"Software\"), to deal in the Software without restriction, including without limitation the rights to use, copy, modify, merge, publish, distribute, sublicense, and/or sell copies of the Software, and to permit persons to whom the Software is furnished to do so, subject to the following conditions:\n",
    "\n",
    "The above copyright notice and this permission notice shall be included in all copies or substantial portions of the Software.\n",
    "\n",
    "THE SOFTWARE IS PROVIDED \"AS IS\", WITHOUT WARRANTY OF ANY KIND, EXPRESS OR IMPLIED, INCLUDING BUT NOT LIMITED TO THE WARRANTIES OF MERCHANTABILITY, FITNESS FOR A PARTICULAR PURPOSE AND NONINFRINGEMENT. IN NO EVENT SHALL THE AUTHORS OR COPYRIGHT HOLDERS BE LIABLE FOR ANY CLAIM, DAMAGES OR OTHER LIABILITY, WHETHER IN AN ACTION OF CONTRACT, TORT OR OTHERWISE, ARISING FROM, OUT OF OR IN CONNECTION WITH THE SOFTWARE OR THE USE OR OTHER DEALINGS IN THE SOFTWARE."
   ]
  }
 ],
 "metadata": {
  "kernelspec": {
   "display_name": "Python 3",
   "language": "python",
   "name": "python3"
  },
  "language_info": {
   "codemirror_mode": {
    "name": "ipython",
    "version": 3
   },
   "file_extension": ".py",
   "mimetype": "text/x-python",
   "name": "python",
   "nbconvert_exporter": "python",
   "pygments_lexer": "ipython3",
   "version": "3.6.6"
  }
 },
 "nbformat": 4,
 "nbformat_minor": 2
}
