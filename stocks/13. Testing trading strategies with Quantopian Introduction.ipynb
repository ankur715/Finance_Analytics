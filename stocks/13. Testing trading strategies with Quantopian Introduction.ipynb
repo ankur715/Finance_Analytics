{
 "cells": [
  {
   "cell_type": "markdown",
   "metadata": {},
   "source": [
    "[Quantopian](https://www.quantopian.com/algorithms), which is a platform that allows us to write and back-test Python-powered trading strategies very easily."
   ]
  },
  {
   "cell_type": "markdown",
   "metadata": {},
   "source": [
    "What Quantopian does is it adds a GUI layer on top of the Zipline back testing library for Python, along with a bunch of data sources as well, many of which are completely free to work with. You can also get capital allocations from Quantopian by licensing your strategy to them if you meet certain criteria. Generally, a beta between -0.3 and +0.3 is a good starting point, but you also need to have other healthy metrics to compete. More on this later, let's learn about the basics of Quantopian first. Since Quantopian is powered by primarily open sourced libraries like Zipline, Alphalens, and Pyfolio, you can also run a Quantopian-like platform locally if you like. I find most people who are interested in running locally are interested in this to keep their algorithms private. Quantopian does not view your algorithms unless you give them permission to, and the community only sees your algorithms if you share them. I highly encourage you to view your relationship with Quantopian not as an adversarial one, but instead as a partnership. If you come up with something of high quality, Quantopian is very interested in working with, and has the funding to invest in, you. In this relationship, Quantopian is bringing the platform, funding, and other experts in the field to help you, it's a pretty good deal in my opinion."
   ]
  },
  {
   "cell_type": "markdown",
   "metadata": {},
   "source": [
    "1. Python Editor - This is where you code your Python logic for the algoirthm.\n",
    "2. Built-algorithm results - When you build the algorithm, graphical results will apppear here.\n",
    "3. Log / Error output - Any console output / log information will come here. It's common to have your program output various bits of text for debugging or just for more information.\n",
    "4. Build Algorithm - Use this to quickly test what you've written. Results wont be saved, but you can see the result in the built-algorithm results section.\n",
    "5. Full Backtest - This will run a full back test based on your current algorithm. Full back tests come with a bit more analysis, results are saved, and the algorithm that generated those results is also saved, so you can go back through back tests and view the exact code that generated a specific result."
   ]
  },
  {
   "cell_type": "code",
   "execution_count": null,
   "metadata": {},
   "outputs": [],
   "source": [
    "\"\"\"\n",
    "This is a template algorithm on Quantopian for you to adapt and fill in.\n",
    "\"\"\"\n",
    "from quantopian.algorithm import attach_pipeline, pipeline_output\n",
    "from quantopian.pipeline import Pipeline\n",
    "from quantopian.pipeline.data.builtin import USEquityPricing\n",
    "from quantopian.pipeline.factors import AverageDollarVolume\n",
    " \n",
    "def initialize(context):\n",
    "    \"\"\"\n",
    "    Called once at the start of the algorithm.\n",
    "    \"\"\"   \n",
    "    # Rebalance every day, 1 hour after market open.\n",
    "    schedule_function(my_rebalance, date_rules.every_day(), time_rules.market_open(hours=1))\n",
    "     \n",
    "    # Record tracking variables at the end of each day.\n",
    "    schedule_function(my_record_vars, date_rules.every_day(), time_rules.market_close())\n",
    "     \n",
    "    # Create our dynamic stock selector.\n",
    "    attach_pipeline(make_pipeline(), 'my_pipeline')\n",
    "         \n",
    "def make_pipeline():\n",
    "    \"\"\"\n",
    "    A function to create our dynamic stock selector (pipeline). Documentation on\n",
    "    pipeline can be found here: https://www.quantopian.com/help#pipeline-title\n",
    "    \"\"\"\n",
    "    \n",
    "     \n",
    "    # Create a dollar volume factor.\n",
    "    dollar_volume = AverageDollarVolume(window_length=1)\n",
    " \n",
    "    # Pick the top 1% of stocks ranked by dollar volume.\n",
    "    high_dollar_volume = dollar_volume.percentile_between(99, 100)\n",
    "     \n",
    "    pipe = Pipeline(\n",
    "        screen = high_dollar_volume,\n",
    "        columns = {\n",
    "            'dollar_volume': dollar_volume\n",
    "        }\n",
    "    )\n",
    "    return pipe\n",
    " \n",
    "def before_trading_start(context, data):\n",
    "    \"\"\"\n",
    "    Called every day before market open.\n",
    "    \"\"\"\n",
    "    context.output = pipeline_output('my_pipeline')\n",
    "  \n",
    "    # These are the securities that we are interested in trading each day.\n",
    "    context.security_list = context.output.index\n",
    "     \n",
    "def my_assign_weights(context, data):\n",
    "    \"\"\"\n",
    "    Assign weights to securities that we want to order.\n",
    "    \"\"\"\n",
    "    pass\n",
    " \n",
    "def my_rebalance(context,data):\n",
    "    \"\"\"\n",
    "    Execute orders according to our schedule_function() timing. \n",
    "    \"\"\"\n",
    "    pass\n",
    " \n",
    "def my_record_vars(context, data):\n",
    "    \"\"\"\n",
    "    Plot variables at the end of each day.\n",
    "    \"\"\"\n",
    "    pass\n",
    " \n",
    "def handle_data(context,data):\n",
    "    \"\"\"\n",
    "    Called every minute.\n",
    "    \"\"\"\n",
    "    pass"
   ]
  },
  {
   "cell_type": "code",
   "execution_count": null,
   "metadata": {},
   "outputs": [],
   "source": []
  },
  {
   "cell_type": "code",
   "execution_count": null,
   "metadata": {},
   "outputs": [],
   "source": [
    "def initialize(context):\n",
    "    context.aapl = sid(24)"
   ]
  },
  {
   "cell_type": "markdown",
   "metadata": {},
   "source": [
    "For now, we're just going to define our Apple stock. If you actually begin to type out sid(, Quantopian has a nice auto completion functionality where you can begin to either type the company's name or ticker symbol to find their sid. The reason for using sid is because company tickers can change over periods of time. This is one way to ensure that you're getting the ticker you're actually intending to get. You can also use symbol() to use the ticker, and make your code a bit more easy to read, but this is not recommended, since the ticker can change.\n",
    "\n",
    "The initialize method runs once upon the starting of the algorithm (or once a day if you are running the algorithm live in real time). Handle_data runs once per minute period.\n",
    "\n",
    "Within our initialize method, we pass this context parameter. Context is a Python Dictionary, which is what we'll use to track what we might otherwise use global variables for. Put simply, the context variable is used to track our current investment situation, with things like our portfolio and cash.\n",
    "\n",
    "Next, we still need our handle_data function. This function takes both context and data as parameters.\n",
    "\n",
    "The context parameter has already been explained, and the data variable is used to track the environment outside of our actual portfolio. This tracks things like stock prices and other information about companies that we may be invested in, or not, but they're companies we're tracking."
   ]
  },
  {
   "cell_type": "code",
   "execution_count": null,
   "metadata": {},
   "outputs": [],
   "source": [
    "def handle_data(context,data):\n",
    "    # prices for aapl for the last 50 days, in 1 day intervals\n",
    "    hist = data.history(context.aapl,'price', 50, '1d')\n",
    "    # mean of the entire 200 day history\n",
    "    sma_50 = hist.mean()\n",
    "    # mean of just the last 50 days\n",
    "    sma_20 = hist[-20:].mean()"
   ]
  },
  {
   "cell_type": "code",
   "execution_count": null,
   "metadata": {},
   "outputs": [],
   "source": []
  },
  {
   "cell_type": "code",
   "execution_count": null,
   "metadata": {},
   "outputs": [],
   "source": []
  },
  {
   "cell_type": "code",
   "execution_count": null,
   "metadata": {},
   "outputs": [],
   "source": []
  },
  {
   "cell_type": "code",
   "execution_count": null,
   "metadata": {},
   "outputs": [],
   "source": []
  }
 ],
 "metadata": {
  "kernelspec": {
   "display_name": "Python 3",
   "language": "python",
   "name": "python3"
  },
  "language_info": {
   "codemirror_mode": {
    "name": "ipython",
    "version": 3
   },
   "file_extension": ".py",
   "mimetype": "text/x-python",
   "name": "python",
   "nbconvert_exporter": "python",
   "pygments_lexer": "ipython3",
   "version": "3.7.3"
  }
 },
 "nbformat": 4,
 "nbformat_minor": 2
}
